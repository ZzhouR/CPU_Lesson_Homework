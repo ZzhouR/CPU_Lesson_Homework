{
 "cells": [
  {
   "cell_type": "code",
   "execution_count": 2,
   "id": "3cc6b05a",
   "metadata": {},
   "outputs": [
    {
     "name": "stdout",
     "output_type": "stream",
     "text": [
      "e:\\实验1\n"
     ]
    }
   ],
   "source": [
    "import pandas as pd\n",
    "import numpy as np\n",
    "import os\n",
    "print(os.getcwd()) #当前工作目录"
   ]
  },
  {
   "cell_type": "code",
   "execution_count": 4,
   "id": "f542d911",
   "metadata": {},
   "outputs": [
    {
     "name": "stdout",
     "output_type": "stream",
     "text": [
      "        PassengerId  Survived        Age     SibSp     Parch       Fare\n",
      "Pclass                                                                 \n",
      "1        461.597222  0.629630  38.233441  0.416667  0.356481  84.154687\n",
      "2        445.956522  0.472826  29.877630  0.402174  0.380435  20.662183\n",
      "3        439.154786  0.242363  25.140620  0.615071  0.393075  13.675550\n",
      "       PassengerId              Survived                  Age             \\\n",
      "              mean         std      mean       std       mean        std   \n",
      "Pclass                                                                     \n",
      "1       461.597222  246.737616  0.629630  0.484026  38.233441  14.802856   \n",
      "2       445.956522  250.852161  0.472826  0.500623  29.877630  14.001077   \n",
      "3       439.154786  264.441453  0.242363  0.428949  25.140620  12.495398   \n",
      "\n",
      "           SibSp               Parch                 Fare             \n",
      "            mean       std      mean       std       mean        std  \n",
      "Pclass                                                                \n",
      "1       0.416667  0.611898  0.356481  0.693997  84.154687  78.380373  \n",
      "2       0.402174  0.601633  0.380435  0.690963  20.662183  13.417399  \n",
      "3       0.615071  1.374883  0.393075  0.888861  13.675550  11.778142  \n"
     ]
    },
    {
     "name": "stderr",
     "output_type": "stream",
     "text": [
      "C:\\Users\\24506\\AppData\\Local\\Temp\\ipykernel_47368\\2852817627.py:3: FutureWarning: The default value of numeric_only in DataFrameGroupBy.mean is deprecated. In a future version, numeric_only will default to False. Either specify numeric_only or select only columns which should be valid for the function.\n",
      "  print(my_data.groupby('Pclass').mean())\n",
      "C:\\Users\\24506\\AppData\\Local\\Temp\\ipykernel_47368\\2852817627.py:5: FutureWarning: ['Name', 'Sex', 'Ticket', 'Cabin', 'Embarked'] did not aggregate successfully. If any error is raised this will raise in a future version of pandas. Drop these columns/ops to avoid this warning.\n",
      "  print(my_data.groupby('Pclass').agg(['mean', 'std']))\n"
     ]
    }
   ],
   "source": [
    "my_data=pd.read_csv(\"titanic.csv\") # stroke 文件必须先拷贝到当前工作目录中\n",
    "# 求取不同方舱内的平均值\n",
    "print(my_data.groupby('Pclass').mean())\n",
    "# 求取不同方舱内的平均值和标准差\n",
    "print(my_data.groupby('Pclass').agg(['mean', 'std']))"
   ]
  },
  {
   "cell_type": "code",
   "execution_count": null,
   "id": "5b47aa0e",
   "metadata": {},
   "outputs": [],
   "source": []
  }
 ],
 "metadata": {
  "kernelspec": {
   "display_name": "base",
   "language": "python",
   "name": "python3"
  },
  "language_info": {
   "codemirror_mode": {
    "name": "ipython",
    "version": 3
   },
   "file_extension": ".py",
   "mimetype": "text/x-python",
   "name": "python",
   "nbconvert_exporter": "python",
   "pygments_lexer": "ipython3",
   "version": "3.11.4"
  }
 },
 "nbformat": 4,
 "nbformat_minor": 5
}
